{
 "cells": [
  {
   "cell_type": "markdown",
   "id": "31161ec3",
   "metadata": {},
   "source": [
    "# Training and Prediction Results"
   ]
  },
  {
   "cell_type": "markdown",
   "id": "5eef774a",
   "metadata": {},
   "source": [
    "\n",
    "## Results for ID_UNIDADE: 0012505, FEATURE_SET: all_features, MODEL_TYPE: XGBoost\n",
    "\n",
    "- **RMSE**: 0.0000\n",
    "- **MAE**: 0.0000\n",
    "- **R²**: 1.0000\n",
    "\n",
    "### Training Plot\n",
    "\n",
    "### Prediction Plot\n",
    "![Prediction Plot](XGBOOST_RESULTS/0012505_all_features/plot_0012505_all_features.png)\n"
   ]
  },
  {
   "cell_type": "markdown",
   "id": "07db2810",
   "metadata": {},
   "source": [
    "\n",
    "## Results for ID_UNIDADE: 0012505, FEATURE_SET: cases, MODEL_TYPE: XGBoost\n",
    "\n",
    "- **RMSE**: 0.0000\n",
    "- **MAE**: 0.0000\n",
    "- **R²**: 1.0000\n",
    "\n",
    "### Training Plot\n",
    "![Training Plot](XGBOOST/plot_0012505_cases.png)\n",
    "\n",
    "### Prediction Plot\n",
    "![Prediction Plot](XGBOOST_RESULTS/0012505_cases/plot_0012505_cases.png)\n"
   ]
  },
  {
   "cell_type": "markdown",
   "id": "1044cb16",
   "metadata": {},
   "source": [
    "\n",
    "## Results for ID_UNIDADE: 0106453, FEATURE_SET: all_features, MODEL_TYPE: XGBoost\n",
    "\n",
    "- **RMSE**: 1.9938\n",
    "- **MAE**: 1.0110\n",
    "- **R²**: 0.4220\n",
    "\n",
    "### Training Plot\n",
    "\n",
    "### Prediction Plot\n",
    "![Prediction Plot](XGBOOST_RESULTS/0106453_all_features/plot_0106453_all_features.png)\n"
   ]
  },
  {
   "cell_type": "markdown",
   "id": "e21a6235",
   "metadata": {},
   "source": [
    "\n",
    "## Results for ID_UNIDADE: 0106453, FEATURE_SET: cases, MODEL_TYPE: XGBoost\n",
    "\n",
    "- **RMSE**: 1.9938\n",
    "- **MAE**: 1.0110\n",
    "- **R²**: 0.4220\n",
    "\n",
    "### Training Plot\n",
    "![Training Plot](XGBOOST/plot_0106453_cases.png)\n",
    "\n",
    "### Prediction Plot\n",
    "![Prediction Plot](XGBOOST_RESULTS/0106453_cases/plot_0106453_cases.png)\n"
   ]
  },
  {
   "cell_type": "markdown",
   "id": "3ffbd588",
   "metadata": {},
   "source": [
    "\n",
    "## Results for ID_UNIDADE: 2268922, FEATURE_SET: all_features, MODEL_TYPE: XGBoost\n",
    "\n",
    "- **RMSE**: 8.9440\n",
    "- **MAE**: 7.4740\n",
    "- **R²**: -21.6588\n",
    "\n",
    "### Training Plot\n",
    "\n",
    "### Prediction Plot\n",
    "![Prediction Plot](XGBOOST_RESULTS/2268922_all_features/plot_2268922_all_features.png)\n"
   ]
  },
  {
   "cell_type": "markdown",
   "id": "954ce69b",
   "metadata": {},
   "source": [
    "\n",
    "## Results for ID_UNIDADE: 2268922, FEATURE_SET: cases, MODEL_TYPE: XGBoost\n",
    "\n",
    "- **RMSE**: 8.9440\n",
    "- **MAE**: 7.4740\n",
    "- **R²**: -21.6588\n",
    "\n",
    "### Training Plot\n",
    "![Training Plot](XGBOOST/plot_2268922_cases.png)\n",
    "\n",
    "### Prediction Plot\n",
    "![Prediction Plot](XGBOOST_RESULTS/2268922_cases/plot_2268922_cases.png)\n"
   ]
  },
  {
   "cell_type": "markdown",
   "id": "18d4fc99",
   "metadata": {},
   "source": [
    "\n",
    "## Results for ID_UNIDADE: 2269481, FEATURE_SET: all_features, MODEL_TYPE: XGBoost\n",
    "\n",
    "- **RMSE**: 0.0000\n",
    "- **MAE**: 0.0000\n",
    "- **R²**: 1.0000\n",
    "\n",
    "### Training Plot\n",
    "\n",
    "### Prediction Plot\n",
    "![Prediction Plot](XGBOOST_RESULTS/2269481_all_features/plot_2269481_all_features.png)\n"
   ]
  },
  {
   "cell_type": "markdown",
   "id": "7fb50d57",
   "metadata": {},
   "source": [
    "\n",
    "## Results for ID_UNIDADE: 2269481, FEATURE_SET: cases, MODEL_TYPE: XGBoost\n",
    "\n",
    "- **RMSE**: 0.0000\n",
    "- **MAE**: 0.0000\n",
    "- **R²**: 1.0000\n",
    "\n",
    "### Training Plot\n",
    "![Training Plot](XGBOOST/plot_2269481_cases.png)\n",
    "\n",
    "### Prediction Plot\n",
    "![Prediction Plot](XGBOOST_RESULTS/2269481_cases/plot_2269481_cases.png)\n"
   ]
  },
  {
   "cell_type": "markdown",
   "id": "fb556448",
   "metadata": {},
   "source": [
    "\n",
    "## Results for ID_UNIDADE: 2287579, FEATURE_SET: all_features, MODEL_TYPE: XGBoost\n",
    "\n",
    "- **RMSE**: 0.0000\n",
    "- **MAE**: 0.0000\n",
    "- **R²**: 1.0000\n",
    "\n",
    "### Training Plot\n",
    "\n",
    "### Prediction Plot\n",
    "![Prediction Plot](XGBOOST_RESULTS/2287579_all_features/plot_2287579_all_features.png)\n"
   ]
  },
  {
   "cell_type": "markdown",
   "id": "592f833a",
   "metadata": {},
   "source": [
    "\n",
    "## Results for ID_UNIDADE: 2287579, FEATURE_SET: cases, MODEL_TYPE: XGBoost\n",
    "\n",
    "- **RMSE**: 0.0000\n",
    "- **MAE**: 0.0000\n",
    "- **R²**: 1.0000\n",
    "\n",
    "### Training Plot\n",
    "![Training Plot](XGBOOST/plot_2287579_cases.png)\n",
    "\n",
    "### Prediction Plot\n",
    "![Prediction Plot](XGBOOST_RESULTS/2287579_cases/plot_2287579_cases.png)\n"
   ]
  },
  {
   "cell_type": "markdown",
   "id": "228cb654",
   "metadata": {},
   "source": [
    "\n",
    "## Results for ID_UNIDADE: 2288893, FEATURE_SET: all_features, MODEL_TYPE: XGBoost\n",
    "\n",
    "- **RMSE**: 3.9580\n",
    "- **MAE**: 1.8959\n",
    "- **R²**: -0.1240\n",
    "\n",
    "### Training Plot\n",
    "\n",
    "### Prediction Plot\n",
    "![Prediction Plot](XGBOOST_RESULTS/2288893_all_features/plot_2288893_all_features.png)\n"
   ]
  },
  {
   "cell_type": "markdown",
   "id": "8250315e",
   "metadata": {},
   "source": [
    "\n",
    "## Results for ID_UNIDADE: 2288893, FEATURE_SET: cases, MODEL_TYPE: XGBoost\n",
    "\n",
    "- **RMSE**: 3.9580\n",
    "- **MAE**: 1.8959\n",
    "- **R²**: -0.1240\n",
    "\n",
    "### Training Plot\n",
    "![Training Plot](XGBOOST/plot_2288893_cases.png)\n",
    "\n",
    "### Prediction Plot\n",
    "![Prediction Plot](XGBOOST_RESULTS/2288893_cases/plot_2288893_cases.png)\n"
   ]
  },
  {
   "cell_type": "markdown",
   "id": "180672a4",
   "metadata": {},
   "source": [
    "\n",
    "## Results for ID_UNIDADE: 2292386, FEATURE_SET: all_features, MODEL_TYPE: XGBoost\n",
    "\n",
    "- **RMSE**: 0.0523\n",
    "- **MAE**: 0.0027\n",
    "- **R²**: 0.8557\n",
    "\n",
    "### Training Plot\n",
    "\n",
    "### Prediction Plot\n",
    "![Prediction Plot](XGBOOST_RESULTS/2292386_all_features/plot_2292386_all_features.png)\n"
   ]
  },
  {
   "cell_type": "markdown",
   "id": "d7aa3b6f",
   "metadata": {},
   "source": [
    "\n",
    "## Results for ID_UNIDADE: 2292386, FEATURE_SET: cases, MODEL_TYPE: XGBoost\n",
    "\n",
    "- **RMSE**: 0.0523\n",
    "- **MAE**: 0.0027\n",
    "- **R²**: 0.8557\n",
    "\n",
    "### Training Plot\n",
    "![Training Plot](XGBOOST/plot_2292386_cases.png)\n",
    "\n",
    "### Prediction Plot\n",
    "![Prediction Plot](XGBOOST_RESULTS/2292386_cases/plot_2292386_cases.png)\n"
   ]
  },
  {
   "cell_type": "markdown",
   "id": "225832c9",
   "metadata": {},
   "source": [
    "\n",
    "## Results for ID_UNIDADE: 2299216, FEATURE_SET: all_features, MODEL_TYPE: XGBoost\n",
    "\n",
    "- **RMSE**: 9.4896\n",
    "- **MAE**: 6.0959\n",
    "- **R²**: -7.0608\n",
    "\n",
    "### Training Plot\n",
    "\n",
    "### Prediction Plot\n",
    "![Prediction Plot](XGBOOST_RESULTS/2299216_all_features/plot_2299216_all_features.png)\n"
   ]
  },
  {
   "cell_type": "markdown",
   "id": "548b01e0",
   "metadata": {},
   "source": [
    "\n",
    "## Results for ID_UNIDADE: 2299216, FEATURE_SET: cases, MODEL_TYPE: XGBoost\n",
    "\n",
    "- **RMSE**: 9.4896\n",
    "- **MAE**: 6.0959\n",
    "- **R²**: -7.0608\n",
    "\n",
    "### Training Plot\n",
    "![Training Plot](XGBOOST/plot_2299216_cases.png)\n",
    "\n",
    "### Prediction Plot\n",
    "![Prediction Plot](XGBOOST_RESULTS/2299216_cases/plot_2299216_cases.png)\n"
   ]
  },
  {
   "cell_type": "markdown",
   "id": "e186c011",
   "metadata": {},
   "source": [
    "\n",
    "## Results for ID_UNIDADE: 5106702, FEATURE_SET: all_features, MODEL_TYPE: XGBoost\n",
    "\n",
    "- **RMSE**: 1.3799\n",
    "- **MAE**: 0.2822\n",
    "- **R²**: -0.1876\n",
    "\n",
    "### Training Plot\n",
    "\n",
    "### Prediction Plot\n",
    "![Prediction Plot](XGBOOST_RESULTS/5106702_all_features/plot_5106702_all_features.png)\n"
   ]
  },
  {
   "cell_type": "markdown",
   "id": "b1b8b245",
   "metadata": {},
   "source": [
    "\n",
    "## Results for ID_UNIDADE: 5106702, FEATURE_SET: cases, MODEL_TYPE: XGBoost\n",
    "\n",
    "- **RMSE**: 1.3799\n",
    "- **MAE**: 0.2822\n",
    "- **R²**: -0.1876\n",
    "\n",
    "### Training Plot\n",
    "![Training Plot](XGBOOST/plot_5106702_cases.png)\n",
    "\n",
    "### Prediction Plot\n",
    "![Prediction Plot](XGBOOST_RESULTS/5106702_cases/plot_5106702_cases.png)\n"
   ]
  },
  {
   "cell_type": "markdown",
   "id": "8488ca9e",
   "metadata": {},
   "source": [
    "\n",
    "## Results for ID_UNIDADE: 6042619, FEATURE_SET: all_features, MODEL_TYPE: XGBoost\n",
    "\n",
    "- **RMSE**: 14.3459\n",
    "- **MAE**: 2.4904\n",
    "- **R²**: -3354.9890\n",
    "\n",
    "### Training Plot\n",
    "\n",
    "### Prediction Plot\n",
    "![Prediction Plot](XGBOOST_RESULTS/6042619_all_features/plot_6042619_all_features.png)\n"
   ]
  },
  {
   "cell_type": "markdown",
   "id": "97c665e9",
   "metadata": {},
   "source": [
    "\n",
    "## Results for ID_UNIDADE: 6042619, FEATURE_SET: cases, MODEL_TYPE: XGBoost\n",
    "\n",
    "- **RMSE**: 14.3459\n",
    "- **MAE**: 2.4904\n",
    "- **R²**: -3354.9890\n",
    "\n",
    "### Training Plot\n",
    "![Training Plot](XGBOOST/plot_6042619_cases.png)\n",
    "\n",
    "### Prediction Plot\n",
    "![Prediction Plot](XGBOOST_RESULTS/6042619_cases/plot_6042619_cases.png)\n"
   ]
  },
  {
   "cell_type": "markdown",
   "id": "da031be6",
   "metadata": {},
   "source": [
    "\n",
    "## Results for ID_UNIDADE: 6518893, FEATURE_SET: all_features, MODEL_TYPE: XGBoost\n",
    "\n",
    "- **RMSE**: 0.0000\n",
    "- **MAE**: 0.0000\n",
    "- **R²**: 1.0000\n",
    "\n",
    "### Training Plot\n",
    "\n",
    "### Prediction Plot\n",
    "![Prediction Plot](XGBOOST_RESULTS/6518893_all_features/plot_6518893_all_features.png)\n"
   ]
  },
  {
   "cell_type": "markdown",
   "id": "6956f1fa",
   "metadata": {},
   "source": [
    "\n",
    "## Results for ID_UNIDADE: 6518893, FEATURE_SET: cases, MODEL_TYPE: XGBoost\n",
    "\n",
    "- **RMSE**: 0.0000\n",
    "- **MAE**: 0.0000\n",
    "- **R²**: 1.0000\n",
    "\n",
    "### Training Plot\n",
    "![Training Plot](XGBOOST/plot_6518893_cases.png)\n",
    "\n",
    "### Prediction Plot\n",
    "![Prediction Plot](XGBOOST_RESULTS/6518893_cases/plot_6518893_cases.png)\n"
   ]
  },
  {
   "cell_type": "markdown",
   "id": "88fad2fc",
   "metadata": {},
   "source": [
    "\n",
    "## Results for ID_UNIDADE: 6635148, FEATURE_SET: all_features, MODEL_TYPE: XGBoost\n",
    "\n",
    "- **RMSE**: 7.0322\n",
    "- **MAE**: 4.1863\n",
    "- **R²**: -16.5521\n",
    "\n",
    "### Training Plot\n",
    "\n",
    "### Prediction Plot\n",
    "![Prediction Plot](XGBOOST_RESULTS/6635148_all_features/plot_6635148_all_features.png)\n"
   ]
  },
  {
   "cell_type": "markdown",
   "id": "093957d8",
   "metadata": {},
   "source": [
    "\n",
    "## Results for ID_UNIDADE: 6635148, FEATURE_SET: cases, MODEL_TYPE: XGBoost\n",
    "\n",
    "- **RMSE**: 7.0322\n",
    "- **MAE**: 4.1863\n",
    "- **R²**: -16.5521\n",
    "\n",
    "### Training Plot\n",
    "![Training Plot](XGBOOST/plot_6635148_cases.png)\n",
    "\n",
    "### Prediction Plot\n",
    "![Prediction Plot](XGBOOST_RESULTS/6635148_cases/plot_6635148_cases.png)\n"
   ]
  },
  {
   "cell_type": "markdown",
   "id": "6903bd8f",
   "metadata": {},
   "source": [
    "\n",
    "## Results for ID_UNIDADE: 6870066, FEATURE_SET: all_features, MODEL_TYPE: XGBoost\n",
    "\n",
    "- **RMSE**: 4.0763\n",
    "- **MAE**: 1.4658\n",
    "- **R²**: 0.1683\n",
    "\n",
    "### Training Plot\n",
    "\n",
    "### Prediction Plot\n",
    "![Prediction Plot](XGBOOST_RESULTS/6870066_all_features/plot_6870066_all_features.png)\n"
   ]
  },
  {
   "cell_type": "markdown",
   "id": "cf58c73c",
   "metadata": {},
   "source": [
    "\n",
    "## Results for ID_UNIDADE: 6870066, FEATURE_SET: cases, MODEL_TYPE: XGBoost\n",
    "\n",
    "- **RMSE**: 4.0763\n",
    "- **MAE**: 1.4658\n",
    "- **R²**: 0.1683\n",
    "\n",
    "### Training Plot\n",
    "![Training Plot](XGBOOST/plot_6870066_cases.png)\n",
    "\n",
    "### Prediction Plot\n",
    "![Prediction Plot](XGBOOST_RESULTS/6870066_cases/plot_6870066_cases.png)\n"
   ]
  },
  {
   "cell_type": "markdown",
   "id": "6d6d7164",
   "metadata": {},
   "source": [
    "\n",
    "## Results for ID_UNIDADE: 7149328, FEATURE_SET: all_features, MODEL_TYPE: XGBoost\n",
    "\n",
    "- **RMSE**: 4.1075\n",
    "- **MAE**: 1.8740\n",
    "- **R²**: 0.1474\n",
    "\n",
    "### Training Plot\n",
    "\n",
    "### Prediction Plot\n",
    "![Prediction Plot](XGBOOST_RESULTS/7149328_all_features/plot_7149328_all_features.png)\n"
   ]
  },
  {
   "cell_type": "markdown",
   "id": "d216e9cd",
   "metadata": {},
   "source": [
    "\n",
    "## Results for ID_UNIDADE: 7149328, FEATURE_SET: cases, MODEL_TYPE: XGBoost\n",
    "\n",
    "- **RMSE**: 4.1075\n",
    "- **MAE**: 1.8740\n",
    "- **R²**: 0.1474\n",
    "\n",
    "### Training Plot\n",
    "![Training Plot](XGBOOST/plot_7149328_cases.png)\n",
    "\n",
    "### Prediction Plot\n",
    "![Prediction Plot](XGBOOST_RESULTS/7149328_cases/plot_7149328_cases.png)\n"
   ]
  },
  {
   "cell_type": "markdown",
   "id": "e0e06ad2",
   "metadata": {},
   "source": [
    "\n",
    "## Results for ID_UNIDADE: 7427549, FEATURE_SET: all_features, MODEL_TYPE: XGBoost\n",
    "\n",
    "- **RMSE**: 1.6031\n",
    "- **MAE**: 1.1288\n",
    "- **R²**: 0.3158\n",
    "\n",
    "### Training Plot\n",
    "\n",
    "### Prediction Plot\n",
    "![Prediction Plot](XGBOOST_RESULTS/7427549_all_features/plot_7427549_all_features.png)\n"
   ]
  },
  {
   "cell_type": "markdown",
   "id": "c80e0736",
   "metadata": {},
   "source": [
    "\n",
    "## Results for ID_UNIDADE: 7427549, FEATURE_SET: cases, MODEL_TYPE: XGBoost\n",
    "\n",
    "- **RMSE**: 1.6031\n",
    "- **MAE**: 1.1288\n",
    "- **R²**: 0.3158\n",
    "\n",
    "### Training Plot\n",
    "![Training Plot](XGBOOST/plot_7427549_cases.png)\n",
    "\n",
    "### Prediction Plot\n",
    "![Prediction Plot](XGBOOST_RESULTS/7427549_cases/plot_7427549_cases.png)\n"
   ]
  },
  {
   "cell_type": "markdown",
   "id": "fb1ca4a2",
   "metadata": {},
   "source": [
    "\n",
    "## Results for ID_UNIDADE: 7591136, FEATURE_SET: all_features, MODEL_TYPE: XGBoost\n",
    "\n",
    "- **RMSE**: 0.0523\n",
    "- **MAE**: 0.0027\n",
    "- **R²**: -0.0027\n",
    "\n",
    "### Training Plot\n",
    "\n",
    "### Prediction Plot\n",
    "![Prediction Plot](XGBOOST_RESULTS/7591136_all_features/plot_7591136_all_features.png)\n"
   ]
  },
  {
   "cell_type": "markdown",
   "id": "3bb4a0bf",
   "metadata": {},
   "source": [
    "\n",
    "## Results for ID_UNIDADE: 7591136, FEATURE_SET: cases, MODEL_TYPE: XGBoost\n",
    "\n",
    "- **RMSE**: 0.0523\n",
    "- **MAE**: 0.0027\n",
    "- **R²**: -0.0027\n",
    "\n",
    "### Training Plot\n",
    "![Training Plot](XGBOOST/plot_7591136_cases.png)\n",
    "\n",
    "### Prediction Plot\n",
    "![Prediction Plot](XGBOOST_RESULTS/7591136_cases/plot_7591136_cases.png)\n"
   ]
  },
  {
   "cell_type": "markdown",
   "id": "0c2e81c9",
   "metadata": {},
   "source": [
    "\n",
    "## Results for ID_UNIDADE: 0012505, FEATURE_SET: all_features, MODEL_TYPE: LSTM_PYTORCH\n",
    "\n",
    "- **RMSE**: 0.0740\n",
    "- **MAE**: 0.0055\n",
    "- **R²**: -0.0055\n",
    "\n",
    "### Training Plot\n",
    "\n",
    "### Prediction Plot\n",
    "![Prediction Plot](LSTM_PYTORCH_RESULTS/0012505_all_features/plot_0012505_all_features.png)\n"
   ]
  },
  {
   "cell_type": "markdown",
   "id": "a8c80a16",
   "metadata": {},
   "source": [
    "\n",
    "## Results for ID_UNIDADE: 0012505, FEATURE_SET: cases, MODEL_TYPE: LSTM_PYTORCH\n",
    "\n",
    "- **RMSE**: 0.0740\n",
    "- **MAE**: 0.0055\n",
    "- **R²**: -0.0055\n",
    "\n",
    "### Training Plot\n",
    "![Training Plot](LSTM_PYTORCH/loss_plot_0012505_cases.png)\n",
    "\n",
    "### Prediction Plot\n",
    "![Prediction Plot](LSTM_PYTORCH_RESULTS/0012505_cases/plot_0012505_cases.png)\n"
   ]
  },
  {
   "cell_type": "markdown",
   "id": "f79e8754",
   "metadata": {},
   "source": [
    "\n",
    "## Results for ID_UNIDADE: 0106453, FEATURE_SET: all_features, MODEL_TYPE: LSTM_PYTORCH\n",
    "\n",
    "- **RMSE**: 2.7278\n",
    "- **MAE**: 1.7425\n",
    "- **R²**: -0.0819\n",
    "\n",
    "### Training Plot\n",
    "\n",
    "### Prediction Plot\n",
    "![Prediction Plot](LSTM_PYTORCH_RESULTS/0106453_all_features/plot_0106453_all_features.png)\n"
   ]
  },
  {
   "cell_type": "markdown",
   "id": "a6769cfc",
   "metadata": {},
   "source": [
    "\n",
    "## Results for ID_UNIDADE: 0106453, FEATURE_SET: cases, MODEL_TYPE: LSTM_PYTORCH\n",
    "\n",
    "- **RMSE**: 3.0408\n",
    "- **MAE**: 1.6795\n",
    "- **R²**: -0.3445\n",
    "\n",
    "### Training Plot\n",
    "![Training Plot](LSTM_PYTORCH/loss_plot_0106453_cases.png)\n",
    "\n",
    "### Prediction Plot\n",
    "![Prediction Plot](LSTM_PYTORCH_RESULTS/0106453_cases/plot_0106453_cases.png)\n"
   ]
  },
  {
   "cell_type": "markdown",
   "id": "90dfaa34",
   "metadata": {},
   "source": [
    "\n",
    "## Results for ID_UNIDADE: 2268922, FEATURE_SET: all_features, MODEL_TYPE: LSTM_PYTORCH\n",
    "\n",
    "- **RMSE**: 2.0819\n",
    "- **MAE**: 1.3753\n",
    "- **R²**: -0.2277\n",
    "\n",
    "### Training Plot\n",
    "\n",
    "### Prediction Plot\n",
    "![Prediction Plot](LSTM_PYTORCH_RESULTS/2268922_all_features/plot_2268922_all_features.png)\n"
   ]
  },
  {
   "cell_type": "markdown",
   "id": "50985d52",
   "metadata": {},
   "source": [
    "\n",
    "## Results for ID_UNIDADE: 2268922, FEATURE_SET: cases, MODEL_TYPE: LSTM_PYTORCH\n",
    "\n",
    "- **RMSE**: 8.3000\n",
    "- **MAE**: 8.1945\n",
    "- **R²**: -18.5135\n",
    "\n",
    "### Training Plot\n",
    "![Training Plot](LSTM_PYTORCH/loss_plot_2268922_cases.png)\n",
    "\n",
    "### Prediction Plot\n",
    "![Prediction Plot](LSTM_PYTORCH_RESULTS/2268922_cases/plot_2268922_cases.png)\n"
   ]
  },
  {
   "cell_type": "markdown",
   "id": "af01d1e6",
   "metadata": {},
   "source": [
    "\n",
    "## Results for ID_UNIDADE: 2269481, FEATURE_SET: all_features, MODEL_TYPE: LSTM_PYTORCH\n",
    "\n",
    "- **RMSE**: 0.1282\n",
    "- **MAE**: 0.0164\n",
    "- **R²**: -0.0167\n",
    "\n",
    "### Training Plot\n",
    "\n",
    "### Prediction Plot\n",
    "![Prediction Plot](LSTM_PYTORCH_RESULTS/2269481_all_features/plot_2269481_all_features.png)\n"
   ]
  },
  {
   "cell_type": "markdown",
   "id": "00aecc3d",
   "metadata": {},
   "source": [
    "\n",
    "## Results for ID_UNIDADE: 2269481, FEATURE_SET: cases, MODEL_TYPE: LSTM_PYTORCH\n",
    "\n",
    "- **RMSE**: 0.1282\n",
    "- **MAE**: 0.0164\n",
    "- **R²**: -0.0167\n",
    "\n",
    "### Training Plot\n",
    "![Training Plot](LSTM_PYTORCH/loss_plot_2269481_cases.png)\n",
    "\n",
    "### Prediction Plot\n",
    "![Prediction Plot](LSTM_PYTORCH_RESULTS/2269481_cases/plot_2269481_cases.png)\n"
   ]
  },
  {
   "cell_type": "markdown",
   "id": "e64bcb7e",
   "metadata": {},
   "source": [
    "\n",
    "## Results for ID_UNIDADE: 2287579, FEATURE_SET: all_features, MODEL_TYPE: LSTM_PYTORCH\n",
    "\n",
    "- **RMSE**: 0.0907\n",
    "- **MAE**: 0.0082\n",
    "- **R²**: -0.0083\n",
    "\n",
    "### Training Plot\n",
    "\n",
    "### Prediction Plot\n",
    "![Prediction Plot](LSTM_PYTORCH_RESULTS/2287579_all_features/plot_2287579_all_features.png)\n"
   ]
  },
  {
   "cell_type": "markdown",
   "id": "f949d3c1",
   "metadata": {},
   "source": [
    "\n",
    "## Results for ID_UNIDADE: 2287579, FEATURE_SET: cases, MODEL_TYPE: LSTM_PYTORCH\n",
    "\n",
    "- **RMSE**: 0.0740\n",
    "- **MAE**: 0.0055\n",
    "- **R²**: 0.3278\n",
    "\n",
    "### Training Plot\n",
    "![Training Plot](LSTM_PYTORCH/loss_plot_2287579_cases.png)\n",
    "\n",
    "### Prediction Plot\n",
    "![Prediction Plot](LSTM_PYTORCH_RESULTS/2287579_cases/plot_2287579_cases.png)\n"
   ]
  },
  {
   "cell_type": "markdown",
   "id": "6193d377",
   "metadata": {},
   "source": [
    "\n",
    "## Results for ID_UNIDADE: 2288893, FEATURE_SET: all_features, MODEL_TYPE: LSTM_PYTORCH\n",
    "\n",
    "- **RMSE**: 3.6075\n",
    "- **MAE**: 2.3123\n",
    "- **R²**: 0.0663\n",
    "\n",
    "### Training Plot\n",
    "\n",
    "### Prediction Plot\n",
    "![Prediction Plot](LSTM_PYTORCH_RESULTS/2288893_all_features/plot_2288893_all_features.png)\n"
   ]
  },
  {
   "cell_type": "markdown",
   "id": "beb6ad3c",
   "metadata": {},
   "source": [
    "\n",
    "## Results for ID_UNIDADE: 2288893, FEATURE_SET: cases, MODEL_TYPE: LSTM_PYTORCH\n",
    "\n",
    "- **RMSE**: 4.3476\n",
    "- **MAE**: 3.4493\n",
    "- **R²**: -0.3562\n",
    "\n",
    "### Training Plot\n",
    "![Training Plot](LSTM_PYTORCH/loss_plot_2288893_cases.png)\n",
    "\n",
    "### Prediction Plot\n",
    "![Prediction Plot](LSTM_PYTORCH_RESULTS/2288893_cases/plot_2288893_cases.png)\n"
   ]
  },
  {
   "cell_type": "markdown",
   "id": "be1c6c1e",
   "metadata": {},
   "source": [
    "\n",
    "## Results for ID_UNIDADE: 2292386, FEATURE_SET: all_features, MODEL_TYPE: LSTM_PYTORCH\n",
    "\n",
    "- **RMSE**: 0.1385\n",
    "- **MAE**: 0.0137\n",
    "- **R²**: -0.0099\n",
    "\n",
    "### Training Plot\n",
    "\n",
    "### Prediction Plot\n",
    "![Prediction Plot](LSTM_PYTORCH_RESULTS/2292386_all_features/plot_2292386_all_features.png)\n"
   ]
  },
  {
   "cell_type": "markdown",
   "id": "a9add7df",
   "metadata": {},
   "source": [
    "\n",
    "## Results for ID_UNIDADE: 2292386, FEATURE_SET: cases, MODEL_TYPE: LSTM_PYTORCH\n",
    "\n",
    "- **RMSE**: 0.0907\n",
    "- **MAE**: 0.0082\n",
    "- **R²**: 0.5672\n",
    "\n",
    "### Training Plot\n",
    "![Training Plot](LSTM_PYTORCH/loss_plot_2292386_cases.png)\n",
    "\n",
    "### Prediction Plot\n",
    "![Prediction Plot](LSTM_PYTORCH_RESULTS/2292386_cases/plot_2292386_cases.png)\n"
   ]
  },
  {
   "cell_type": "markdown",
   "id": "ae057e29",
   "metadata": {},
   "source": [
    "\n",
    "## Results for ID_UNIDADE: 2299216, FEATURE_SET: all_features, MODEL_TYPE: LSTM_PYTORCH\n",
    "\n",
    "- **RMSE**: 3.8467\n",
    "- **MAE**: 1.9041\n",
    "- **R²**: -0.3245\n",
    "\n",
    "### Training Plot\n",
    "\n",
    "### Prediction Plot\n",
    "![Prediction Plot](LSTM_PYTORCH_RESULTS/2299216_all_features/plot_2299216_all_features.png)\n"
   ]
  },
  {
   "cell_type": "markdown",
   "id": "ef2c258f",
   "metadata": {},
   "source": [
    "\n",
    "## Results for ID_UNIDADE: 2299216, FEATURE_SET: cases, MODEL_TYPE: LSTM_PYTORCH\n",
    "\n",
    "- **RMSE**: 9.0030\n",
    "- **MAE**: 8.3096\n",
    "- **R²**: -6.2554\n",
    "\n",
    "### Training Plot\n",
    "![Training Plot](LSTM_PYTORCH/loss_plot_2299216_cases.png)\n",
    "\n",
    "### Prediction Plot\n",
    "![Prediction Plot](LSTM_PYTORCH_RESULTS/2299216_cases/plot_2299216_cases.png)\n"
   ]
  },
  {
   "cell_type": "markdown",
   "id": "68370e08",
   "metadata": {},
   "source": [
    "\n",
    "## Results for ID_UNIDADE: 5106702, FEATURE_SET: all_features, MODEL_TYPE: LSTM_PYTORCH\n",
    "\n",
    "- **RMSE**: 1.2875\n",
    "- **MAE**: 0.2329\n",
    "- **R²**: -0.0338\n",
    "\n",
    "### Training Plot\n",
    "\n",
    "### Prediction Plot\n",
    "![Prediction Plot](LSTM_PYTORCH_RESULTS/5106702_all_features/plot_5106702_all_features.png)\n"
   ]
  },
  {
   "cell_type": "markdown",
   "id": "260cb3ef",
   "metadata": {},
   "source": [
    "\n",
    "## Results for ID_UNIDADE: 5106702, FEATURE_SET: cases, MODEL_TYPE: LSTM_PYTORCH\n",
    "\n",
    "- **RMSE**: 1.4730\n",
    "- **MAE**: 0.5096\n",
    "- **R²**: -0.3534\n",
    "\n",
    "### Training Plot\n",
    "![Training Plot](LSTM_PYTORCH/loss_plot_5106702_cases.png)\n",
    "\n",
    "### Prediction Plot\n",
    "![Prediction Plot](LSTM_PYTORCH_RESULTS/5106702_cases/plot_5106702_cases.png)\n"
   ]
  },
  {
   "cell_type": "markdown",
   "id": "08c91113",
   "metadata": {},
   "source": [
    "\n",
    "## Results for ID_UNIDADE: 6042619, FEATURE_SET: all_features, MODEL_TYPE: LSTM_PYTORCH\n",
    "\n",
    "- **RMSE**: 38.9597\n",
    "- **MAE**: 38.9589\n",
    "- **R²**: -24750.1055\n",
    "\n",
    "### Training Plot\n",
    "\n",
    "### Prediction Plot\n",
    "![Prediction Plot](LSTM_PYTORCH_RESULTS/6042619_all_features/plot_6042619_all_features.png)\n"
   ]
  },
  {
   "cell_type": "markdown",
   "id": "5c7f30e6",
   "metadata": {},
   "source": [
    "\n",
    "## Results for ID_UNIDADE: 6042619, FEATURE_SET: cases, MODEL_TYPE: LSTM_PYTORCH\n",
    "\n",
    "- **RMSE**: 16.9033\n",
    "- **MAE**: 7.2822\n",
    "- **R²**: -4658.1323\n",
    "\n",
    "### Training Plot\n",
    "![Training Plot](LSTM_PYTORCH/loss_plot_6042619_cases.png)\n",
    "\n",
    "### Prediction Plot\n",
    "![Prediction Plot](LSTM_PYTORCH_RESULTS/6042619_cases/plot_6042619_cases.png)\n"
   ]
  },
  {
   "cell_type": "markdown",
   "id": "648e4ae7",
   "metadata": {},
   "source": [
    "\n",
    "## Results for ID_UNIDADE: 6518893, FEATURE_SET: all_features, MODEL_TYPE: LSTM_PYTORCH\n",
    "\n",
    "- **RMSE**: 0.0523\n",
    "- **MAE**: 0.0027\n",
    "- **R²**: -0.0027\n",
    "\n",
    "### Training Plot\n",
    "\n",
    "### Prediction Plot\n",
    "![Prediction Plot](LSTM_PYTORCH_RESULTS/6518893_all_features/plot_6518893_all_features.png)\n"
   ]
  },
  {
   "cell_type": "markdown",
   "id": "52846055",
   "metadata": {},
   "source": [
    "\n",
    "## Results for ID_UNIDADE: 6518893, FEATURE_SET: cases, MODEL_TYPE: LSTM_PYTORCH\n",
    "\n",
    "- **RMSE**: 0.0523\n",
    "- **MAE**: 0.0027\n",
    "- **R²**: -0.0027\n",
    "\n",
    "### Training Plot\n",
    "![Training Plot](LSTM_PYTORCH/loss_plot_6518893_cases.png)\n",
    "\n",
    "### Prediction Plot\n",
    "![Prediction Plot](LSTM_PYTORCH_RESULTS/6518893_cases/plot_6518893_cases.png)\n"
   ]
  },
  {
   "cell_type": "markdown",
   "id": "5c34ef83",
   "metadata": {},
   "source": [
    "\n",
    "## Results for ID_UNIDADE: 6635148, FEATURE_SET: all_features, MODEL_TYPE: LSTM_PYTORCH\n",
    "\n",
    "- **RMSE**: 5.3841\n",
    "- **MAE**: 5.2192\n",
    "- **R²**: -9.2891\n",
    "\n",
    "### Training Plot\n",
    "\n",
    "### Prediction Plot\n",
    "![Prediction Plot](LSTM_PYTORCH_RESULTS/6635148_all_features/plot_6635148_all_features.png)\n"
   ]
  },
  {
   "cell_type": "markdown",
   "id": "75cd78a1",
   "metadata": {},
   "source": [
    "\n",
    "## Results for ID_UNIDADE: 6635148, FEATURE_SET: cases, MODEL_TYPE: LSTM_PYTORCH\n",
    "\n",
    "- **RMSE**: 4.7961\n",
    "- **MAE**: 3.0247\n",
    "- **R²**: -7.1644\n",
    "\n",
    "### Training Plot\n",
    "![Training Plot](LSTM_PYTORCH/loss_plot_6635148_cases.png)\n",
    "\n",
    "### Prediction Plot\n",
    "![Prediction Plot](LSTM_PYTORCH_RESULTS/6635148_cases/plot_6635148_cases.png)\n"
   ]
  },
  {
   "cell_type": "markdown",
   "id": "b95c6008",
   "metadata": {},
   "source": [
    "\n",
    "## Results for ID_UNIDADE: 6870066, FEATURE_SET: all_features, MODEL_TYPE: LSTM_PYTORCH\n",
    "\n",
    "- **RMSE**: 4.1075\n",
    "- **MAE**: 2.2356\n",
    "- **R²**: 0.1555\n",
    "\n",
    "### Training Plot\n",
    "\n",
    "### Prediction Plot\n",
    "![Prediction Plot](LSTM_PYTORCH_RESULTS/6870066_all_features/plot_6870066_all_features.png)\n"
   ]
  },
  {
   "cell_type": "markdown",
   "id": "1f3da9db",
   "metadata": {},
   "source": [
    "\n",
    "## Results for ID_UNIDADE: 6870066, FEATURE_SET: cases, MODEL_TYPE: LSTM_PYTORCH\n",
    "\n",
    "- **RMSE**: 4.5996\n",
    "- **MAE**: 1.7260\n",
    "- **R²**: -0.0589\n",
    "\n",
    "### Training Plot\n",
    "![Training Plot](LSTM_PYTORCH/loss_plot_6870066_cases.png)\n",
    "\n",
    "### Prediction Plot\n",
    "![Prediction Plot](LSTM_PYTORCH_RESULTS/6870066_cases/plot_6870066_cases.png)\n"
   ]
  },
  {
   "cell_type": "markdown",
   "id": "1b6c4bce",
   "metadata": {},
   "source": [
    "\n",
    "## Results for ID_UNIDADE: 7149328, FEATURE_SET: all_features, MODEL_TYPE: LSTM_PYTORCH\n",
    "\n",
    "- **RMSE**: 5.2549\n",
    "- **MAE**: 2.7973\n",
    "- **R²**: -0.3954\n",
    "\n",
    "### Training Plot\n",
    "\n",
    "### Prediction Plot\n",
    "![Prediction Plot](LSTM_PYTORCH_RESULTS/7149328_all_features/plot_7149328_all_features.png)\n"
   ]
  },
  {
   "cell_type": "markdown",
   "id": "7cb7396b",
   "metadata": {},
   "source": [
    "\n",
    "## Results for ID_UNIDADE: 7149328, FEATURE_SET: cases, MODEL_TYPE: LSTM_PYTORCH\n",
    "\n",
    "- **RMSE**: 5.2133\n",
    "- **MAE**: 2.6740\n",
    "- **R²**: -0.3734\n",
    "\n",
    "### Training Plot\n",
    "![Training Plot](LSTM_PYTORCH/loss_plot_7149328_cases.png)\n",
    "\n",
    "### Prediction Plot\n",
    "![Prediction Plot](LSTM_PYTORCH_RESULTS/7149328_cases/plot_7149328_cases.png)\n"
   ]
  },
  {
   "cell_type": "markdown",
   "id": "7b1db1d1",
   "metadata": {},
   "source": [
    "\n",
    "## Results for ID_UNIDADE: 7427549, FEATURE_SET: all_features, MODEL_TYPE: LSTM_PYTORCH\n",
    "\n",
    "- **RMSE**: 2.7806\n",
    "- **MAE**: 2.0055\n",
    "- **R²**: -1.0584\n",
    "\n",
    "### Training Plot\n",
    "\n",
    "### Prediction Plot\n",
    "![Prediction Plot](LSTM_PYTORCH_RESULTS/7427549_all_features/plot_7427549_all_features.png)\n"
   ]
  },
  {
   "cell_type": "markdown",
   "id": "a935ed14",
   "metadata": {},
   "source": [
    "\n",
    "## Results for ID_UNIDADE: 7427549, FEATURE_SET: cases, MODEL_TYPE: LSTM_PYTORCH\n",
    "\n",
    "- **RMSE**: 2.7845\n",
    "- **MAE**: 2.0000\n",
    "- **R²**: -1.0642\n",
    "\n",
    "### Training Plot\n",
    "![Training Plot](LSTM_PYTORCH/loss_plot_7427549_cases.png)\n",
    "\n",
    "### Prediction Plot\n",
    "![Prediction Plot](LSTM_PYTORCH_RESULTS/7427549_cases/plot_7427549_cases.png)\n"
   ]
  },
  {
   "cell_type": "markdown",
   "id": "16b3c43d",
   "metadata": {},
   "source": [
    "\n",
    "## Results for ID_UNIDADE: 7591136, FEATURE_SET: all_features, MODEL_TYPE: LSTM_PYTORCH\n",
    "\n",
    "- **RMSE**: 0.0523\n",
    "- **MAE**: 0.0027\n",
    "- **R²**: -0.0027\n",
    "\n",
    "### Training Plot\n",
    "\n",
    "### Prediction Plot\n",
    "![Prediction Plot](LSTM_PYTORCH_RESULTS/7591136_all_features/plot_7591136_all_features.png)\n"
   ]
  },
  {
   "cell_type": "markdown",
   "id": "961a2671",
   "metadata": {},
   "source": [
    "\n",
    "## Results for ID_UNIDADE: 7591136, FEATURE_SET: cases, MODEL_TYPE: LSTM_PYTORCH\n",
    "\n",
    "- **RMSE**: 0.0000\n",
    "- **MAE**: 0.0000\n",
    "- **R²**: 1.0000\n",
    "\n",
    "### Training Plot\n",
    "![Training Plot](LSTM_PYTORCH/loss_plot_7591136_cases.png)\n",
    "\n",
    "### Prediction Plot\n",
    "![Prediction Plot](LSTM_PYTORCH_RESULTS/7591136_cases/plot_7591136_cases.png)\n"
   ]
  }
 ],
 "metadata": {},
 "nbformat": 4,
 "nbformat_minor": 5
}
