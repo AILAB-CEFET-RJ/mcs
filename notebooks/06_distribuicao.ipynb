{
 "cells": [
  {
   "cell_type": "code",
   "execution_count": 11,
   "id": "ea5adfcc",
   "metadata": {},
   "outputs": [
    {
     "name": "stdout",
     "output_type": "stream",
     "text": [
      "Região Frequência  Média (μ)  Variância (σ²)   σ²/μ\n",
      "    RN     Diário       9.42          323.22  34.30\n",
      "    RN    Semanal      65.68        12138.26 184.80\n",
      "    RJ     Diário      44.59         6030.20 135.24\n",
      "    RJ    Semanal     310.96       218018.94 701.12\n"
     ]
    }
   ],
   "source": [
    "import pandas as pd\n",
    "\n",
    "def compute_stats(df, freq_label):\n",
    "    mean_val = df['CASES'].mean()\n",
    "    var_val = df['CASES'].var()\n",
    "    ratio = var_val / mean_val if mean_val != 0 else None\n",
    "    return {\n",
    "        \"Frequência\": freq_label,\n",
    "        \"Média (μ)\": round(mean_val, 2),\n",
    "        \"Variância (σ²)\": round(var_val, 2),\n",
    "        \"σ²/μ\": round(ratio, 2) if ratio else \"N/A\"\n",
    "    }\n",
    "\n",
    "# ---------------------------------------------------------\n",
    "# 1. Ler dados\n",
    "# ---------------------------------------------------------\n",
    "paths = {\n",
    "    'RN': '/home/rgarcia/mcs/data/processed/sinan/DENG240810.parquet',\n",
    "    'RJ': '/home/rgarcia/mcs/data/processed/sinan/DENG33.parquet'\n",
    "}\n",
    "\n",
    "result_rows = []\n",
    "\n",
    "for region, path in paths.items():\n",
    "    df = pd.read_parquet(path)\n",
    "    df['DT_NOTIFIC'] = pd.to_datetime(df['DT_NOTIFIC'], errors='coerce')\n",
    "    df = df.dropna(subset=['DT_NOTIFIC'])\n",
    "\n",
    "    # ----------------------------------------\n",
    "    # Diário\n",
    "    daily = df.groupby('DT_NOTIFIC')['CASES'].sum().reset_index()\n",
    "    stats_daily = compute_stats(daily, 'Diário')\n",
    "    stats_daily['Região'] = region\n",
    "    result_rows.append(stats_daily)\n",
    "\n",
    "    # ----------------------------------------\n",
    "    # Semanal\n",
    "    df['Ano'] = df['DT_NOTIFIC'].dt.year\n",
    "    df['SemanaEpi'] = df['DT_NOTIFIC'].dt.isocalendar().week\n",
    "    weekly = df.groupby(['Ano', 'SemanaEpi'])['CASES'].sum().reset_index()\n",
    "    stats_weekly = compute_stats(weekly, 'Semanal')\n",
    "    stats_weekly['Região'] = region\n",
    "    result_rows.append(stats_weekly)\n",
    "\n",
    "# ---------------------------------------------------------\n",
    "# 2. Gerar tabela final\n",
    "# ---------------------------------------------------------\n",
    "result_df = pd.DataFrame(result_rows)[['Região', 'Frequência', 'Média (μ)', 'Variância (σ²)', 'σ²/μ']]\n",
    "print(result_df.to_string(index=False))\n"
   ]
  }
 ],
 "metadata": {
  "kernelspec": {
   "display_name": "arboseer",
   "language": "python",
   "name": "python3"
  },
  "language_info": {
   "codemirror_mode": {
    "name": "ipython",
    "version": 3
   },
   "file_extension": ".py",
   "mimetype": "text/x-python",
   "name": "python",
   "nbconvert_exporter": "python",
   "pygments_lexer": "ipython3",
   "version": "3.11.9"
  }
 },
 "nbformat": 4,
 "nbformat_minor": 5
}
