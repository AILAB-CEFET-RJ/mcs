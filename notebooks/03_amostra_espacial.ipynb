{
 "cells": [
  {
   "cell_type": "markdown",
   "id": "9b5f414a",
   "metadata": {},
   "source": [
    "# Unidades de Saúde\n",
    "Total de Unidades de Saúde por Dataset"
   ]
  },
  {
   "cell_type": "code",
   "execution_count": null,
   "id": "ee07a9b4",
   "metadata": {
    "vscode": {
     "languageId": "plaintext"
    }
   },
   "outputs": [],
   "source": [
    "import geopandas as gpd\n",
    "import pandas as pd\n",
    "import matplotlib.pyplot as plt\n",
    "from shapely.geometry import Point\n",
    "\n",
    "# ---------------------------------------------\n",
    "# 1. Carregar shapefile do polígono do estado\n",
    "# ---------------------------------------------\n",
    "state_shape = gpd.read_file('data/shapes/RJ_Municipios_2024/RJ_Municipios_2024.shp')\n",
    "#state_shape = gpd.read_file('data/shapes/Natal/Limite_Bairros.shp')\n",
    "state_shape = state_shape.to_crs(epsg=3857)\n",
    "\n",
    "# ---------------------------------------------\n",
    "# 2. Carregar o Parquet com todas as unidades\n",
    "# ---------------------------------------------\n",
    "df_cnes = pd.read_parquet('data/processed/cnes/STRJ2401.parquet')\n",
    "#df_cnes = pd.read_parquet('data/processed/cnes/SRN2401.parquet')\n",
    "print(\"CNES\", df_cnes.columns)\n",
    "\n",
    "# ---------------------------------------------\n",
    "# 3. Carregar o Parquet com os casos de Dengue\n",
    "# ---------------------------------------------\n",
    "df_dengue = pd.read_parquet('data/processed/sinan/DENG33.parquet')\n",
    "#df_dengue = pd.read_parquet('data/processed/sinan/DENG240810.parquet')\n",
    "print(\"DENGUE\", df_dengue.columns)\n",
    "\n",
    "# ---------------------------------------------\n",
    "# 4. Filtrar apenas unidades presentes no SINAN\n",
    "# ---------------------------------------------\n",
    "# Checar as colunas corretas: normalmente ID_UNIDADE no dengue e CNES no cnes\n",
    "id_unidades_dengue = df_dengue['ID_UNIDADE'].dropna().unique()\n",
    "\n",
    "# Filtrar o DF CNES para manter só as unidades presentes nos dados de casos\n",
    "df_cnes_filtrado = df_cnes[df_cnes['CNES'].isin(id_unidades_dengue)].copy()\n",
    "\n",
    "# ---------------------------------------------\n",
    "# 5. Remover nulos em LAT/LNG\n",
    "# ---------------------------------------------\n",
    "df_cnes_filtrado = df_cnes_filtrado.dropna(subset=['LAT', 'LNG']).drop_duplicates()\n",
    "\n",
    "# ---------------------------------------------\n",
    "# 6. Criar GeoDataFrame das Unidades\n",
    "# ---------------------------------------------\n",
    "geometry_units = [Point(xy) for xy in zip(df_cnes_filtrado['LNG'], df_cnes_filtrado['LAT'])]\n",
    "gdf_units = gpd.GeoDataFrame(df_cnes_filtrado, geometry=geometry_units, crs='EPSG:4326')\n",
    "gdf_units = gdf_units.to_crs(epsg=3857)\n",
    "\n",
    "# ---------------------------------------------\n",
    "# 7. Contar número de unidades válidas\n",
    "# ---------------------------------------------\n",
    "total_unidades = len(gdf_units)\n",
    "\n",
    "# ---------------------------------------------\n",
    "# 8. Plotar o Mapa\n",
    "# ---------------------------------------------\n",
    "fig, ax = plt.subplots(figsize=(10, 10))\n",
    "ax.set_axis_off()\n",
    "\n",
    "# Estado\n",
    "state_shape.plot(ax=ax, edgecolor='black', facecolor='none')\n",
    "\n",
    "# Unidades filtradas\n",
    "gdf_units.plot(ax=ax, color='blue', marker='o', markersize=30, label='Unidades de Saúde')\n",
    "\n",
    "# Ajustar limites com folga\n",
    "ax.set_xlim(state_shape.total_bounds[0] - 5000, state_shape.total_bounds[2] + 5000)\n",
    "ax.set_ylim(state_shape.total_bounds[1] - 5000, state_shape.total_bounds[3] + 5000)\n",
    "\n",
    "# Título com contagem\n",
    "plt.title(f\"Unidades de Saúde no Estado do RJ (Usadas no Dataset de Dengue, Total: {total_unidades})\", fontsize=14)\n",
    "#plt.title(f\"Unidades de Saúde da Cidade de Natal (Usadas no Dataset de Dengue, Total: {total_unidades})\", fontsize=14)\n",
    "\n",
    "plt.legend()\n",
    "plt.tight_layout()\n",
    "plt.savefig('mapa_unidades_saude_rj.png')\n",
    "#plt.savefig('mapa_unidades_saude_rn.png')"
   ]
  }
 ],
 "metadata": {
  "language_info": {
   "name": "python"
  }
 },
 "nbformat": 4,
 "nbformat_minor": 5
}
